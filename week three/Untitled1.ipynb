{
 "cells": [
  {
   "cell_type": "code",
   "execution_count": 1,
   "id": "3db3c5db",
   "metadata": {},
   "outputs": [],
   "source": [
    "import numpy as np\n"
   ]
  },
  {
   "cell_type": "code",
   "execution_count": 2,
   "id": "c9912bd0",
   "metadata": {},
   "outputs": [],
   "source": [
    "layerdims = [3,4,5,6,1]"
   ]
  },
  {
   "cell_type": "code",
   "execution_count": 3,
   "id": "a583ef41",
   "metadata": {},
   "outputs": [
    {
     "name": "stdout",
     "output_type": "stream",
     "text": [
      "5\n"
     ]
    }
   ],
   "source": [
    "print(len(layerdims))"
   ]
  },
  {
   "cell_type": "code",
   "execution_count": 10,
   "id": "cf40e9a6",
   "metadata": {},
   "outputs": [
    {
     "name": "stdout",
     "output_type": "stream",
     "text": [
      "4\n",
      "5\n",
      "6\n",
      "1\n"
     ]
    }
   ],
   "source": [
    "for i in range (1,len(layerdims)):\n",
    "    print(layerdims[i])"
   ]
  },
  {
   "cell_type": "code",
   "execution_count": 11,
   "id": "99eae396",
   "metadata": {},
   "outputs": [
    {
     "name": "stdout",
     "output_type": "stream",
     "text": [
      "4\n",
      "5\n",
      "6\n",
      "1\n"
     ]
    }
   ],
   "source": [
    "for i in range (1,5):\n",
    "     print(layerdims[i])"
   ]
  },
  {
   "cell_type": "code",
   "execution_count": 12,
   "id": "574ca844",
   "metadata": {},
   "outputs": [
    {
     "name": "stdout",
     "output_type": "stream",
     "text": [
      "4\n"
     ]
    }
   ],
   "source": [
    "print(layerdims[1])"
   ]
  },
  {
   "cell_type": "code",
   "execution_count": null,
   "id": "ed2f4a14",
   "metadata": {},
   "outputs": [],
   "source": []
  }
 ],
 "metadata": {
  "kernelspec": {
   "display_name": "Python 3",
   "language": "python",
   "name": "python3"
  },
  "language_info": {
   "codemirror_mode": {
    "name": "ipython",
    "version": 3
   },
   "file_extension": ".py",
   "mimetype": "text/x-python",
   "name": "python",
   "nbconvert_exporter": "python",
   "pygments_lexer": "ipython3",
   "version": "3.8.8"
  }
 },
 "nbformat": 4,
 "nbformat_minor": 5
}
